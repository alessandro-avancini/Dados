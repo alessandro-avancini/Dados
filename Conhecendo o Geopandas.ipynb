{
 "cells": [
  {
   "cell_type": "markdown",
   "id": "ef1365ba",
   "metadata": {},
   "source": [
    "# Funcionamento do Geopandas"
   ]
  },
  {
   "cell_type": "code",
   "execution_count": 1,
   "id": "b58db4d9",
   "metadata": {},
   "outputs": [],
   "source": [
    "%matplotlib inline\n",
    "import geopandas as gpd\n",
    "import pandas as pd"
   ]
  },
  {
   "cell_type": "markdown",
   "id": "f2473c25",
   "metadata": {},
   "source": [
    "## Fontes de Dados"
   ]
  },
  {
   "cell_type": "code",
   "execution_count": 2,
   "id": "67f0d416",
   "metadata": {},
   "outputs": [],
   "source": [
    "rj = gpd.read_file('Dados/33MUE250GC_SIR.shp')"
   ]
  },
  {
   "cell_type": "code",
   "execution_count": 3,
   "id": "eb29ad99",
   "metadata": {},
   "outputs": [
    {
     "data": {
      "text/plain": [
       "geopandas.geodataframe.GeoDataFrame"
      ]
     },
     "execution_count": 3,
     "metadata": {},
     "output_type": "execute_result"
    }
   ],
   "source": [
    "type(rj)"
   ]
  },
  {
   "cell_type": "code",
   "execution_count": 4,
   "id": "59e34f85",
   "metadata": {},
   "outputs": [
    {
     "data": {
      "text/html": [
       "<div>\n",
       "<style scoped>\n",
       "    .dataframe tbody tr th:only-of-type {\n",
       "        vertical-align: middle;\n",
       "    }\n",
       "\n",
       "    .dataframe tbody tr th {\n",
       "        vertical-align: top;\n",
       "    }\n",
       "\n",
       "    .dataframe thead th {\n",
       "        text-align: right;\n",
       "    }\n",
       "</style>\n",
       "<table border=\"1\" class=\"dataframe\">\n",
       "  <thead>\n",
       "    <tr style=\"text-align: right;\">\n",
       "      <th></th>\n",
       "      <th>ID</th>\n",
       "      <th>CD_GEOCODM</th>\n",
       "      <th>NM_MUNICIP</th>\n",
       "      <th>geometry</th>\n",
       "    </tr>\n",
       "  </thead>\n",
       "  <tbody>\n",
       "    <tr>\n",
       "      <th>0</th>\n",
       "      <td>1468</td>\n",
       "      <td>3300100</td>\n",
       "      <td>ANGRA DOS REIS</td>\n",
       "      <td>MULTIPOLYGON (((-44.33208 -23.02384, -44.33221...</td>\n",
       "    </tr>\n",
       "    <tr>\n",
       "      <th>1</th>\n",
       "      <td>1469</td>\n",
       "      <td>3300159</td>\n",
       "      <td>APERIBÉ</td>\n",
       "      <td>POLYGON ((-42.08950 -21.62893, -42.08912 -21.6...</td>\n",
       "    </tr>\n",
       "    <tr>\n",
       "      <th>2</th>\n",
       "      <td>1470</td>\n",
       "      <td>3300209</td>\n",
       "      <td>ARARUAMA</td>\n",
       "      <td>POLYGON ((-42.22526 -22.59253, -42.22521 -22.5...</td>\n",
       "    </tr>\n",
       "    <tr>\n",
       "      <th>3</th>\n",
       "      <td>1471</td>\n",
       "      <td>3300225</td>\n",
       "      <td>AREAL</td>\n",
       "      <td>POLYGON ((-43.16007 -22.20005, -43.16003 -22.1...</td>\n",
       "    </tr>\n",
       "    <tr>\n",
       "      <th>4</th>\n",
       "      <td>1472</td>\n",
       "      <td>3300233</td>\n",
       "      <td>ARMAÇÃO DOS BÚZIOS</td>\n",
       "      <td>MULTIPOLYGON (((-41.98427 -22.74458, -41.98296...</td>\n",
       "    </tr>\n",
       "    <tr>\n",
       "      <th>...</th>\n",
       "      <td>...</td>\n",
       "      <td>...</td>\n",
       "      <td>...</td>\n",
       "      <td>...</td>\n",
       "    </tr>\n",
       "    <tr>\n",
       "      <th>87</th>\n",
       "      <td>1555</td>\n",
       "      <td>3306008</td>\n",
       "      <td>TRÊS RIOS</td>\n",
       "      <td>POLYGON ((-43.13666 -22.10933, -43.13182 -22.1...</td>\n",
       "    </tr>\n",
       "    <tr>\n",
       "      <th>88</th>\n",
       "      <td>1556</td>\n",
       "      <td>3306107</td>\n",
       "      <td>VALENÇA</td>\n",
       "      <td>POLYGON ((-43.82120 -22.08844, -43.82101 -22.0...</td>\n",
       "    </tr>\n",
       "    <tr>\n",
       "      <th>89</th>\n",
       "      <td>1557</td>\n",
       "      <td>3306156</td>\n",
       "      <td>VARRE-SAI</td>\n",
       "      <td>POLYGON ((-41.82695 -20.84164, -41.82686 -20.8...</td>\n",
       "    </tr>\n",
       "    <tr>\n",
       "      <th>90</th>\n",
       "      <td>1558</td>\n",
       "      <td>3306206</td>\n",
       "      <td>VASSOURAS</td>\n",
       "      <td>POLYGON ((-43.61208 -22.30841, -43.61113 -22.3...</td>\n",
       "    </tr>\n",
       "    <tr>\n",
       "      <th>91</th>\n",
       "      <td>1559</td>\n",
       "      <td>3306305</td>\n",
       "      <td>VOLTA REDONDA</td>\n",
       "      <td>POLYGON ((-44.13912 -22.53062, -44.13878 -22.5...</td>\n",
       "    </tr>\n",
       "  </tbody>\n",
       "</table>\n",
       "<p>92 rows × 4 columns</p>\n",
       "</div>"
      ],
      "text/plain": [
       "      ID CD_GEOCODM          NM_MUNICIP  \\\n",
       "0   1468    3300100      ANGRA DOS REIS   \n",
       "1   1469    3300159             APERIBÉ   \n",
       "2   1470    3300209            ARARUAMA   \n",
       "3   1471    3300225               AREAL   \n",
       "4   1472    3300233  ARMAÇÃO DOS BÚZIOS   \n",
       "..   ...        ...                 ...   \n",
       "87  1555    3306008           TRÊS RIOS   \n",
       "88  1556    3306107             VALENÇA   \n",
       "89  1557    3306156           VARRE-SAI   \n",
       "90  1558    3306206           VASSOURAS   \n",
       "91  1559    3306305       VOLTA REDONDA   \n",
       "\n",
       "                                             geometry  \n",
       "0   MULTIPOLYGON (((-44.33208 -23.02384, -44.33221...  \n",
       "1   POLYGON ((-42.08950 -21.62893, -42.08912 -21.6...  \n",
       "2   POLYGON ((-42.22526 -22.59253, -42.22521 -22.5...  \n",
       "3   POLYGON ((-43.16007 -22.20005, -43.16003 -22.1...  \n",
       "4   MULTIPOLYGON (((-41.98427 -22.74458, -41.98296...  \n",
       "..                                                ...  \n",
       "87  POLYGON ((-43.13666 -22.10933, -43.13182 -22.1...  \n",
       "88  POLYGON ((-43.82120 -22.08844, -43.82101 -22.0...  \n",
       "89  POLYGON ((-41.82695 -20.84164, -41.82686 -20.8...  \n",
       "90  POLYGON ((-43.61208 -22.30841, -43.61113 -22.3...  \n",
       "91  POLYGON ((-44.13912 -22.53062, -44.13878 -22.5...  \n",
       "\n",
       "[92 rows x 4 columns]"
      ]
     },
     "execution_count": 4,
     "metadata": {},
     "output_type": "execute_result"
    }
   ],
   "source": [
    "rj"
   ]
  },
  {
   "cell_type": "code",
   "execution_count": 5,
   "id": "015a39dd",
   "metadata": {},
   "outputs": [
    {
     "data": {
      "text/plain": [
       "<AxesSubplot:>"
      ]
     },
     "execution_count": 5,
     "metadata": {},
     "output_type": "execute_result"
    },
    {
     "data": {
      "image/png": "[encoded data removed]",
      "text/plain": [
       "<Figure size 1080x576 with 1 Axes>"
      ]
     },
     "metadata": {
      "needs_background": "light"
     },
     "output_type": "display_data"
    }
   ],
   "source": [
    "rj.plot(color='white', edgecolor='black', figsize=(15,8))"
   ]
  },
  {
   "cell_type": "code",
   "execution_count": 6,
   "id": "9495ce58",
   "metadata": {},
   "outputs": [],
   "source": [
    "from shapely.geometry import Polygon, Point, LineString, MultiPolygon"
   ]
  },
  {
   "cell_type": "code",
   "execution_count": 7,
   "id": "5f334ca5",
   "metadata": {},
   "outputs": [
    {
     "data": {
      "text/plain": [
       "0    POLYGON ((0.00000 0.00000, 1.00000 0.00000, 1....\n",
       "1    POLYGON ((0.00000 0.00000, 1.00000 0.00000, 1....\n",
       "2    POLYGON ((2.00000 0.00000, 3.00000 0.00000, 3....\n",
       "3    LINESTRING (0.00000 1.00000, 3.00000 0.00000, ...\n",
       "4                              POINT (0.50000 0.50000)\n",
       "dtype: geometry"
      ]
     },
     "execution_count": 7,
     "metadata": {},
     "output_type": "execute_result"
    }
   ],
   "source": [
    "p1 = Polygon([(0,0),(1,0),(1,1),(0,1)])\n",
    "p2 = Polygon([(0,0),(1,0),(1,1)])\n",
    "\n",
    "p3 = Polygon([(2,0),(3,0),(3,1),(2,1)])\n",
    "\n",
    "p4 = LineString([(0,1),(3,0),(1,1)])\n",
    "p5 = Point(0.5,0.5)\n",
    "\n",
    "g = gpd.GeoSeries([p1,p2,p3,p4,p5])\n",
    "g"
   ]
  },
  {
   "cell_type": "code",
   "execution_count": 8,
   "id": "50f74982",
   "metadata": {},
   "outputs": [
    {
     "data": {
      "text/plain": [
       "<AxesSubplot:>"
      ]
     },
     "execution_count": 8,
     "metadata": {},
     "output_type": "execute_result"
    },
    {
     "data": {
      "image/png": "[encoded data removed]",
      "text/plain": [
       "<Figure size 432x288 with 1 Axes>"
      ]
     },
     "metadata": {
      "needs_background": "light"
     },
     "output_type": "display_data"
    }
   ],
   "source": [
    "g.plot(cmap='tab20')"
   ]
  },
  {
   "cell_type": "markdown",
   "id": "d7150d60",
   "metadata": {},
   "source": [
    "## Modificando o Geodataframe"
   ]
  },
  {
   "cell_type": "markdown",
   "id": "5ca6cb4c",
   "metadata": {},
   "source": [
    "Aqui eu coloco o texto pra me ajudar na programação nutela"
   ]
  },
  {
   "cell_type": "code",
   "execution_count": 9,
   "id": "36be4751",
   "metadata": {},
   "outputs": [],
   "source": [
    "rj = rj[rj['NM_MUNICIP'] == 'RIO DE JANEIRO']"
   ]
  },
  {
   "cell_type": "code",
   "execution_count": 10,
   "id": "534c0f6f",
   "metadata": {},
   "outputs": [
    {
     "data": {
      "text/html": [
       "<div>\n",
       "<style scoped>\n",
       "    .dataframe tbody tr th:only-of-type {\n",
       "        vertical-align: middle;\n",
       "    }\n",
       "\n",
       "    .dataframe tbody tr th {\n",
       "        vertical-align: top;\n",
       "    }\n",
       "\n",
       "    .dataframe thead th {\n",
       "        text-align: right;\n",
       "    }\n",
       "</style>\n",
       "<table border=\"1\" class=\"dataframe\">\n",
       "  <thead>\n",
       "    <tr style=\"text-align: right;\">\n",
       "      <th></th>\n",
       "      <th>ID</th>\n",
       "      <th>CD_GEOCODM</th>\n",
       "      <th>NM_MUNICIP</th>\n",
       "      <th>geometry</th>\n",
       "    </tr>\n",
       "  </thead>\n",
       "  <tbody>\n",
       "    <tr>\n",
       "      <th>67</th>\n",
       "      <td>1535</td>\n",
       "      <td>3304557</td>\n",
       "      <td>RIO DE JANEIRO</td>\n",
       "      <td>MULTIPOLYGON (((-43.12376 -22.80712, -43.12380...</td>\n",
       "    </tr>\n",
       "  </tbody>\n",
       "</table>\n",
       "</div>"
      ],
      "text/plain": [
       "      ID CD_GEOCODM      NM_MUNICIP  \\\n",
       "67  1535    3304557  RIO DE JANEIRO   \n",
       "\n",
       "                                             geometry  \n",
       "67  MULTIPOLYGON (((-43.12376 -22.80712, -43.12380...  "
      ]
     },
     "execution_count": 10,
     "metadata": {},
     "output_type": "execute_result"
    }
   ],
   "source": [
    "rj"
   ]
  },
  {
   "cell_type": "code",
   "execution_count": 11,
   "id": "74dde4d2",
   "metadata": {},
   "outputs": [
    {
     "data": {
      "text/plain": [
       "<geopandas.plotting.GeoplotAccessor object at 0x000001623CDA5850>"
      ]
     },
     "execution_count": 11,
     "metadata": {},
     "output_type": "execute_result"
    }
   ],
   "source": [
    "rj.plot"
   ]
  },
  {
   "cell_type": "code",
   "execution_count": 12,
   "id": "06fdbea6",
   "metadata": {},
   "outputs": [
    {
     "data": {
      "text/plain": [
       "<AxesSubplot:>"
      ]
     },
     "execution_count": 12,
     "metadata": {},
     "output_type": "execute_result"
    },
    {
     "data": {
      "image/png": "[encoded data removed]",
      "text/plain": [
       "<Figure size 1440x720 with 1 Axes>"
      ]
     },
     "metadata": {
      "needs_background": "light"
     },
     "output_type": "display_data"
    }
   ],
   "source": [
    "rj.plot(color='orange', edgecolor='black', figsize=(20,10))"
   ]
  },
  {
   "cell_type": "code",
   "execution_count": 13,
   "id": "767f713b",
   "metadata": {},
   "outputs": [],
   "source": [
    "import os\n",
    "\n",
    "dir = 'Dados/RJ_Alterado'\n",
    "if not os.path.exists(dir):\n",
    "    os.makedirs(dir)"
   ]
  },
  {
   "cell_type": "code",
   "execution_count": 14,
   "id": "2c6ffebd",
   "metadata": {},
   "outputs": [
    {
     "name": "stderr",
     "output_type": "stream",
     "text": [
      "C:\\Users\\aless\\anaconda3\\envs\\alessandro_pandas\\lib\\site-packages\\geopandas\\io\\file.py:299: FutureWarning: pandas.Int64Index is deprecated and will be removed from pandas in a future version. Use pandas.Index with the appropriate dtype instead.\n",
      "  pd.Int64Index,\n"
     ]
    }
   ],
   "source": [
    "rj.to_file(dir + '/RJ-MUNIC.shp')"
   ]
  },
  {
   "cell_type": "code",
   "execution_count": 15,
   "id": "82c72519",
   "metadata": {},
   "outputs": [],
   "source": [
    "dados = pd.read_table('Dados/dados.txt')"
   ]
  },
  {
   "cell_type": "code",
   "execution_count": 16,
   "id": "72a06144",
   "metadata": {
    "scrolled": true
   },
   "outputs": [
    {
     "data": {
      "text/html": [
       "<div>\n",
       "<style scoped>\n",
       "    .dataframe tbody tr th:only-of-type {\n",
       "        vertical-align: middle;\n",
       "    }\n",
       "\n",
       "    .dataframe tbody tr th {\n",
       "        vertical-align: top;\n",
       "    }\n",
       "\n",
       "    .dataframe thead th {\n",
       "        text-align: right;\n",
       "    }\n",
       "</style>\n",
       "<table border=\"1\" class=\"dataframe\">\n",
       "  <thead>\n",
       "    <tr style=\"text-align: right;\">\n",
       "      <th></th>\n",
       "      <th>Area</th>\n",
       "      <th>Bairro</th>\n",
       "      <th>Cidade</th>\n",
       "      <th>Endereco</th>\n",
       "      <th>Estado</th>\n",
       "      <th>Latitude</th>\n",
       "      <th>Longitude</th>\n",
       "      <th>Quartos</th>\n",
       "      <th>Suites</th>\n",
       "      <th>Vagas</th>\n",
       "      <th>Tipo</th>\n",
       "      <th>Transacao</th>\n",
       "      <th>Valor</th>\n",
       "    </tr>\n",
       "  </thead>\n",
       "  <tbody>\n",
       "    <tr>\n",
       "      <th>0</th>\n",
       "      <td>138</td>\n",
       "      <td>Recreio dos Bandeirantes</td>\n",
       "      <td>Rio de Janeiro</td>\n",
       "      <td>Rua Vicente Scofano</td>\n",
       "      <td>RJ</td>\n",
       "      <td>-23.016455</td>\n",
       "      <td>-43.462946</td>\n",
       "      <td>3</td>\n",
       "      <td>1</td>\n",
       "      <td>3</td>\n",
       "      <td>Apartamento</td>\n",
       "      <td>Venda</td>\n",
       "      <td>1095000</td>\n",
       "    </tr>\n",
       "    <tr>\n",
       "      <th>1</th>\n",
       "      <td>133</td>\n",
       "      <td>Freguesia (Jacarepaguá)</td>\n",
       "      <td>Rio de Janeiro</td>\n",
       "      <td>Rua Potiguara</td>\n",
       "      <td>RJ</td>\n",
       "      <td>-22.943199</td>\n",
       "      <td>-43.336911</td>\n",
       "      <td>3</td>\n",
       "      <td>1</td>\n",
       "      <td>2</td>\n",
       "      <td>Apartamento</td>\n",
       "      <td>Venda</td>\n",
       "      <td>650000</td>\n",
       "    </tr>\n",
       "    <tr>\n",
       "      <th>2</th>\n",
       "      <td>46</td>\n",
       "      <td>Pilares</td>\n",
       "      <td>Rio de Janeiro</td>\n",
       "      <td>Rua Professor Carneiro Felipe</td>\n",
       "      <td>RJ</td>\n",
       "      <td>-22.873849</td>\n",
       "      <td>-43.300517</td>\n",
       "      <td>1</td>\n",
       "      <td>0</td>\n",
       "      <td>0</td>\n",
       "      <td>Apartamento</td>\n",
       "      <td>Venda</td>\n",
       "      <td>150000</td>\n",
       "    </tr>\n",
       "    <tr>\n",
       "      <th>3</th>\n",
       "      <td>65</td>\n",
       "      <td>Barra da Tijuca</td>\n",
       "      <td>Rio de Janeiro</td>\n",
       "      <td>Avenida Salvador Allende</td>\n",
       "      <td>RJ</td>\n",
       "      <td>-22.984787</td>\n",
       "      <td>-43.412703</td>\n",
       "      <td>2</td>\n",
       "      <td>1</td>\n",
       "      <td>1</td>\n",
       "      <td>Apartamento</td>\n",
       "      <td>Venda</td>\n",
       "      <td>430000</td>\n",
       "    </tr>\n",
       "    <tr>\n",
       "      <th>4</th>\n",
       "      <td>85</td>\n",
       "      <td>Gávea</td>\n",
       "      <td>Rio de Janeiro</td>\n",
       "      <td>Rua Marquês de São Vicente</td>\n",
       "      <td>RJ</td>\n",
       "      <td>-14.235004</td>\n",
       "      <td>-51.925280</td>\n",
       "      <td>2</td>\n",
       "      <td>1</td>\n",
       "      <td>2</td>\n",
       "      <td>Apartamento</td>\n",
       "      <td>Venda</td>\n",
       "      <td>1800000</td>\n",
       "    </tr>\n",
       "    <tr>\n",
       "      <th>...</th>\n",
       "      <td>...</td>\n",
       "      <td>...</td>\n",
       "      <td>...</td>\n",
       "      <td>...</td>\n",
       "      <td>...</td>\n",
       "      <td>...</td>\n",
       "      <td>...</td>\n",
       "      <td>...</td>\n",
       "      <td>...</td>\n",
       "      <td>...</td>\n",
       "      <td>...</td>\n",
       "      <td>...</td>\n",
       "      <td>...</td>\n",
       "    </tr>\n",
       "    <tr>\n",
       "      <th>4995</th>\n",
       "      <td>48</td>\n",
       "      <td>Campo Grande</td>\n",
       "      <td>Rio de Janeiro</td>\n",
       "      <td>Rua Josué de Barros</td>\n",
       "      <td>RJ</td>\n",
       "      <td>-22.878349</td>\n",
       "      <td>-43.550762</td>\n",
       "      <td>2</td>\n",
       "      <td>0</td>\n",
       "      <td>1</td>\n",
       "      <td>Apartamento</td>\n",
       "      <td>Venda</td>\n",
       "      <td>170000</td>\n",
       "    </tr>\n",
       "    <tr>\n",
       "      <th>4996</th>\n",
       "      <td>75</td>\n",
       "      <td>Recreio dos Bandeirantes</td>\n",
       "      <td>Rio de Janeiro</td>\n",
       "      <td>Rua Le Corbusier</td>\n",
       "      <td>RJ</td>\n",
       "      <td>-23.024717</td>\n",
       "      <td>-43.487285</td>\n",
       "      <td>3</td>\n",
       "      <td>1</td>\n",
       "      <td>1</td>\n",
       "      <td>Apartamento</td>\n",
       "      <td>Venda</td>\n",
       "      <td>550000</td>\n",
       "    </tr>\n",
       "    <tr>\n",
       "      <th>4997</th>\n",
       "      <td>32</td>\n",
       "      <td>Jardim Botânico</td>\n",
       "      <td>Rio de Janeiro</td>\n",
       "      <td>Rua Getúlio das Neves</td>\n",
       "      <td>RJ</td>\n",
       "      <td>-22.959433</td>\n",
       "      <td>-43.206180</td>\n",
       "      <td>1</td>\n",
       "      <td>0</td>\n",
       "      <td>0</td>\n",
       "      <td>Apartamento</td>\n",
       "      <td>Venda</td>\n",
       "      <td>580000</td>\n",
       "    </tr>\n",
       "    <tr>\n",
       "      <th>4998</th>\n",
       "      <td>85</td>\n",
       "      <td>Grajaú</td>\n",
       "      <td>Rio de Janeiro</td>\n",
       "      <td>Rua Jerônimo de Lemos</td>\n",
       "      <td>RJ</td>\n",
       "      <td>-22.918773</td>\n",
       "      <td>-43.260492</td>\n",
       "      <td>3</td>\n",
       "      <td>0</td>\n",
       "      <td>0</td>\n",
       "      <td>Apartamento</td>\n",
       "      <td>Venda</td>\n",
       "      <td>325000</td>\n",
       "    </tr>\n",
       "    <tr>\n",
       "      <th>4999</th>\n",
       "      <td>52</td>\n",
       "      <td>Campo Grande</td>\n",
       "      <td>Rio de Janeiro</td>\n",
       "      <td>Rua Sílvio Fontes</td>\n",
       "      <td>RJ</td>\n",
       "      <td>-22.882881</td>\n",
       "      <td>-43.491146</td>\n",
       "      <td>2</td>\n",
       "      <td>0</td>\n",
       "      <td>0</td>\n",
       "      <td>Apartamento</td>\n",
       "      <td>Venda</td>\n",
       "      <td>135000</td>\n",
       "    </tr>\n",
       "  </tbody>\n",
       "</table>\n",
       "<p>5000 rows × 13 columns</p>\n",
       "</div>"
      ],
      "text/plain": [
       "      Area                    Bairro          Cidade  \\\n",
       "0      138  Recreio dos Bandeirantes  Rio de Janeiro   \n",
       "1      133   Freguesia (Jacarepaguá)  Rio de Janeiro   \n",
       "2       46                   Pilares  Rio de Janeiro   \n",
       "3       65           Barra da Tijuca  Rio de Janeiro   \n",
       "4       85                     Gávea  Rio de Janeiro   \n",
       "...    ...                       ...             ...   \n",
       "4995    48              Campo Grande  Rio de Janeiro   \n",
       "4996    75  Recreio dos Bandeirantes  Rio de Janeiro   \n",
       "4997    32           Jardim Botânico  Rio de Janeiro   \n",
       "4998    85                    Grajaú  Rio de Janeiro   \n",
       "4999    52              Campo Grande  Rio de Janeiro   \n",
       "\n",
       "                           Endereco Estado   Latitude  Longitude  Quartos  \\\n",
       "0               Rua Vicente Scofano     RJ -23.016455 -43.462946        3   \n",
       "1                     Rua Potiguara     RJ -22.943199 -43.336911        3   \n",
       "2     Rua Professor Carneiro Felipe     RJ -22.873849 -43.300517        1   \n",
       "3          Avenida Salvador Allende     RJ -22.984787 -43.412703        2   \n",
       "4        Rua Marquês de São Vicente     RJ -14.235004 -51.925280        2   \n",
       "...                             ...    ...        ...        ...      ...   \n",
       "4995            Rua Josué de Barros     RJ -22.878349 -43.550762        2   \n",
       "4996               Rua Le Corbusier     RJ -23.024717 -43.487285        3   \n",
       "4997          Rua Getúlio das Neves     RJ -22.959433 -43.206180        1   \n",
       "4998          Rua Jerônimo de Lemos     RJ -22.918773 -43.260492        3   \n",
       "4999              Rua Sílvio Fontes     RJ -22.882881 -43.491146        2   \n",
       "\n",
       "      Suites  Vagas         Tipo Transacao    Valor  \n",
       "0          1      3  Apartamento     Venda  1095000  \n",
       "1          1      2  Apartamento     Venda   650000  \n",
       "2          0      0  Apartamento     Venda   150000  \n",
       "3          1      1  Apartamento     Venda   430000  \n",
       "4          1      2  Apartamento     Venda  1800000  \n",
       "...      ...    ...          ...       ...      ...  \n",
       "4995       0      1  Apartamento     Venda   170000  \n",
       "4996       1      1  Apartamento     Venda   550000  \n",
       "4997       0      0  Apartamento     Venda   580000  \n",
       "4998       0      0  Apartamento     Venda   325000  \n",
       "4999       0      0  Apartamento     Venda   135000  \n",
       "\n",
       "[5000 rows x 13 columns]"
      ]
     },
     "execution_count": 16,
     "metadata": {},
     "output_type": "execute_result"
    }
   ],
   "source": [
    "dados"
   ]
  },
  {
   "cell_type": "code",
   "execution_count": 17,
   "id": "b03aa1f6",
   "metadata": {},
   "outputs": [
    {
     "data": {
      "text/plain": [
       "pandas.core.frame.DataFrame"
      ]
     },
     "execution_count": 17,
     "metadata": {},
     "output_type": "execute_result"
    }
   ],
   "source": [
    "type(dados)"
   ]
  },
  {
   "cell_type": "code",
   "execution_count": 18,
   "id": "bcd1beed",
   "metadata": {},
   "outputs": [],
   "source": [
    "geometry = [Point(x) for x in zip(dados['Longitude'], dados['Latitude'])]"
   ]
  },
  {
   "cell_type": "code",
   "execution_count": 23,
   "id": "b5dc18d7",
   "metadata": {},
   "outputs": [],
   "source": [
    "crs = {'proj':'latlong', 'ellp':'WGS84', 'datum': 'WGS84', 'no_defs': True}\n",
    "geo_dados = gpd.GeoDataFrame(dados, crs = crs, geometry = geometry)"
   ]
  },
  {
   "cell_type": "code",
   "execution_count": 24,
   "id": "942cbb87",
   "metadata": {},
   "outputs": [
    {
     "data": {
      "text/html": [
       "<div>\n",
       "<style scoped>\n",
       "    .dataframe tbody tr th:only-of-type {\n",
       "        vertical-align: middle;\n",
       "    }\n",
       "\n",
       "    .dataframe tbody tr th {\n",
       "        vertical-align: top;\n",
       "    }\n",
       "\n",
       "    .dataframe thead th {\n",
       "        text-align: right;\n",
       "    }\n",
       "</style>\n",
       "<table border=\"1\" class=\"dataframe\">\n",
       "  <thead>\n",
       "    <tr style=\"text-align: right;\">\n",
       "      <th></th>\n",
       "      <th>Area</th>\n",
       "      <th>Bairro</th>\n",
       "      <th>Cidade</th>\n",
       "      <th>Endereco</th>\n",
       "      <th>Estado</th>\n",
       "      <th>Latitude</th>\n",
       "      <th>Longitude</th>\n",
       "      <th>Quartos</th>\n",
       "      <th>Suites</th>\n",
       "      <th>Vagas</th>\n",
       "      <th>Tipo</th>\n",
       "      <th>Transacao</th>\n",
       "      <th>Valor</th>\n",
       "      <th>geometry</th>\n",
       "    </tr>\n",
       "  </thead>\n",
       "  <tbody>\n",
       "    <tr>\n",
       "      <th>0</th>\n",
       "      <td>138</td>\n",
       "      <td>Recreio dos Bandeirantes</td>\n",
       "      <td>Rio de Janeiro</td>\n",
       "      <td>Rua Vicente Scofano</td>\n",
       "      <td>RJ</td>\n",
       "      <td>-23.016455</td>\n",
       "      <td>-43.462946</td>\n",
       "      <td>3</td>\n",
       "      <td>1</td>\n",
       "      <td>3</td>\n",
       "      <td>Apartamento</td>\n",
       "      <td>Venda</td>\n",
       "      <td>1095000</td>\n",
       "      <td>POINT (-43.46295 -23.01646)</td>\n",
       "    </tr>\n",
       "    <tr>\n",
       "      <th>1</th>\n",
       "      <td>133</td>\n",
       "      <td>Freguesia (Jacarepaguá)</td>\n",
       "      <td>Rio de Janeiro</td>\n",
       "      <td>Rua Potiguara</td>\n",
       "      <td>RJ</td>\n",
       "      <td>-22.943199</td>\n",
       "      <td>-43.336911</td>\n",
       "      <td>3</td>\n",
       "      <td>1</td>\n",
       "      <td>2</td>\n",
       "      <td>Apartamento</td>\n",
       "      <td>Venda</td>\n",
       "      <td>650000</td>\n",
       "      <td>POINT (-43.33691 -22.94320)</td>\n",
       "    </tr>\n",
       "    <tr>\n",
       "      <th>2</th>\n",
       "      <td>46</td>\n",
       "      <td>Pilares</td>\n",
       "      <td>Rio de Janeiro</td>\n",
       "      <td>Rua Professor Carneiro Felipe</td>\n",
       "      <td>RJ</td>\n",
       "      <td>-22.873849</td>\n",
       "      <td>-43.300517</td>\n",
       "      <td>1</td>\n",
       "      <td>0</td>\n",
       "      <td>0</td>\n",
       "      <td>Apartamento</td>\n",
       "      <td>Venda</td>\n",
       "      <td>150000</td>\n",
       "      <td>POINT (-43.30052 -22.87385)</td>\n",
       "    </tr>\n",
       "    <tr>\n",
       "      <th>3</th>\n",
       "      <td>65</td>\n",
       "      <td>Barra da Tijuca</td>\n",
       "      <td>Rio de Janeiro</td>\n",
       "      <td>Avenida Salvador Allende</td>\n",
       "      <td>RJ</td>\n",
       "      <td>-22.984787</td>\n",
       "      <td>-43.412703</td>\n",
       "      <td>2</td>\n",
       "      <td>1</td>\n",
       "      <td>1</td>\n",
       "      <td>Apartamento</td>\n",
       "      <td>Venda</td>\n",
       "      <td>430000</td>\n",
       "      <td>POINT (-43.41270 -22.98479)</td>\n",
       "    </tr>\n",
       "    <tr>\n",
       "      <th>4</th>\n",
       "      <td>85</td>\n",
       "      <td>Gávea</td>\n",
       "      <td>Rio de Janeiro</td>\n",
       "      <td>Rua Marquês de São Vicente</td>\n",
       "      <td>RJ</td>\n",
       "      <td>-14.235004</td>\n",
       "      <td>-51.925280</td>\n",
       "      <td>2</td>\n",
       "      <td>1</td>\n",
       "      <td>2</td>\n",
       "      <td>Apartamento</td>\n",
       "      <td>Venda</td>\n",
       "      <td>1800000</td>\n",
       "      <td>POINT (-51.92528 -14.23500)</td>\n",
       "    </tr>\n",
       "    <tr>\n",
       "      <th>...</th>\n",
       "      <td>...</td>\n",
       "      <td>...</td>\n",
       "      <td>...</td>\n",
       "      <td>...</td>\n",
       "      <td>...</td>\n",
       "      <td>...</td>\n",
       "      <td>...</td>\n",
       "      <td>...</td>\n",
       "      <td>...</td>\n",
       "      <td>...</td>\n",
       "      <td>...</td>\n",
       "      <td>...</td>\n",
       "      <td>...</td>\n",
       "      <td>...</td>\n",
       "    </tr>\n",
       "    <tr>\n",
       "      <th>4995</th>\n",
       "      <td>48</td>\n",
       "      <td>Campo Grande</td>\n",
       "      <td>Rio de Janeiro</td>\n",
       "      <td>Rua Josué de Barros</td>\n",
       "      <td>RJ</td>\n",
       "      <td>-22.878349</td>\n",
       "      <td>-43.550762</td>\n",
       "      <td>2</td>\n",
       "      <td>0</td>\n",
       "      <td>1</td>\n",
       "      <td>Apartamento</td>\n",
       "      <td>Venda</td>\n",
       "      <td>170000</td>\n",
       "      <td>POINT (-43.55076 -22.87835)</td>\n",
       "    </tr>\n",
       "    <tr>\n",
       "      <th>4996</th>\n",
       "      <td>75</td>\n",
       "      <td>Recreio dos Bandeirantes</td>\n",
       "      <td>Rio de Janeiro</td>\n",
       "      <td>Rua Le Corbusier</td>\n",
       "      <td>RJ</td>\n",
       "      <td>-23.024717</td>\n",
       "      <td>-43.487285</td>\n",
       "      <td>3</td>\n",
       "      <td>1</td>\n",
       "      <td>1</td>\n",
       "      <td>Apartamento</td>\n",
       "      <td>Venda</td>\n",
       "      <td>550000</td>\n",
       "      <td>POINT (-43.48729 -23.02472)</td>\n",
       "    </tr>\n",
       "    <tr>\n",
       "      <th>4997</th>\n",
       "      <td>32</td>\n",
       "      <td>Jardim Botânico</td>\n",
       "      <td>Rio de Janeiro</td>\n",
       "      <td>Rua Getúlio das Neves</td>\n",
       "      <td>RJ</td>\n",
       "      <td>-22.959433</td>\n",
       "      <td>-43.206180</td>\n",
       "      <td>1</td>\n",
       "      <td>0</td>\n",
       "      <td>0</td>\n",
       "      <td>Apartamento</td>\n",
       "      <td>Venda</td>\n",
       "      <td>580000</td>\n",
       "      <td>POINT (-43.20618 -22.95943)</td>\n",
       "    </tr>\n",
       "    <tr>\n",
       "      <th>4998</th>\n",
       "      <td>85</td>\n",
       "      <td>Grajaú</td>\n",
       "      <td>Rio de Janeiro</td>\n",
       "      <td>Rua Jerônimo de Lemos</td>\n",
       "      <td>RJ</td>\n",
       "      <td>-22.918773</td>\n",
       "      <td>-43.260492</td>\n",
       "      <td>3</td>\n",
       "      <td>0</td>\n",
       "      <td>0</td>\n",
       "      <td>Apartamento</td>\n",
       "      <td>Venda</td>\n",
       "      <td>325000</td>\n",
       "      <td>POINT (-43.26049 -22.91877)</td>\n",
       "    </tr>\n",
       "    <tr>\n",
       "      <th>4999</th>\n",
       "      <td>52</td>\n",
       "      <td>Campo Grande</td>\n",
       "      <td>Rio de Janeiro</td>\n",
       "      <td>Rua Sílvio Fontes</td>\n",
       "      <td>RJ</td>\n",
       "      <td>-22.882881</td>\n",
       "      <td>-43.491146</td>\n",
       "      <td>2</td>\n",
       "      <td>0</td>\n",
       "      <td>0</td>\n",
       "      <td>Apartamento</td>\n",
       "      <td>Venda</td>\n",
       "      <td>135000</td>\n",
       "      <td>POINT (-43.49115 -22.88288)</td>\n",
       "    </tr>\n",
       "  </tbody>\n",
       "</table>\n",
       "<p>5000 rows × 14 columns</p>\n",
       "</div>"
      ],
      "text/plain": [
       "      Area                    Bairro          Cidade  \\\n",
       "0      138  Recreio dos Bandeirantes  Rio de Janeiro   \n",
       "1      133   Freguesia (Jacarepaguá)  Rio de Janeiro   \n",
       "2       46                   Pilares  Rio de Janeiro   \n",
       "3       65           Barra da Tijuca  Rio de Janeiro   \n",
       "4       85                     Gávea  Rio de Janeiro   \n",
       "...    ...                       ...             ...   \n",
       "4995    48              Campo Grande  Rio de Janeiro   \n",
       "4996    75  Recreio dos Bandeirantes  Rio de Janeiro   \n",
       "4997    32           Jardim Botânico  Rio de Janeiro   \n",
       "4998    85                    Grajaú  Rio de Janeiro   \n",
       "4999    52              Campo Grande  Rio de Janeiro   \n",
       "\n",
       "                           Endereco Estado   Latitude  Longitude  Quartos  \\\n",
       "0               Rua Vicente Scofano     RJ -23.016455 -43.462946        3   \n",
       "1                     Rua Potiguara     RJ -22.943199 -43.336911        3   \n",
       "2     Rua Professor Carneiro Felipe     RJ -22.873849 -43.300517        1   \n",
       "3          Avenida Salvador Allende     RJ -22.984787 -43.412703        2   \n",
       "4        Rua Marquês de São Vicente     RJ -14.235004 -51.925280        2   \n",
       "...                             ...    ...        ...        ...      ...   \n",
       "4995            Rua Josué de Barros     RJ -22.878349 -43.550762        2   \n",
       "4996               Rua Le Corbusier     RJ -23.024717 -43.487285        3   \n",
       "4997          Rua Getúlio das Neves     RJ -22.959433 -43.206180        1   \n",
       "4998          Rua Jerônimo de Lemos     RJ -22.918773 -43.260492        3   \n",
       "4999              Rua Sílvio Fontes     RJ -22.882881 -43.491146        2   \n",
       "\n",
       "      Suites  Vagas         Tipo Transacao    Valor  \\\n",
       "0          1      3  Apartamento     Venda  1095000   \n",
       "1          1      2  Apartamento     Venda   650000   \n",
       "2          0      0  Apartamento     Venda   150000   \n",
       "3          1      1  Apartamento     Venda   430000   \n",
       "4          1      2  Apartamento     Venda  1800000   \n",
       "...      ...    ...          ...       ...      ...   \n",
       "4995       0      1  Apartamento     Venda   170000   \n",
       "4996       1      1  Apartamento     Venda   550000   \n",
       "4997       0      0  Apartamento     Venda   580000   \n",
       "4998       0      0  Apartamento     Venda   325000   \n",
       "4999       0      0  Apartamento     Venda   135000   \n",
       "\n",
       "                         geometry  \n",
       "0     POINT (-43.46295 -23.01646)  \n",
       "1     POINT (-43.33691 -22.94320)  \n",
       "2     POINT (-43.30052 -22.87385)  \n",
       "3     POINT (-43.41270 -22.98479)  \n",
       "4     POINT (-51.92528 -14.23500)  \n",
       "...                           ...  \n",
       "4995  POINT (-43.55076 -22.87835)  \n",
       "4996  POINT (-43.48729 -23.02472)  \n",
       "4997  POINT (-43.20618 -22.95943)  \n",
       "4998  POINT (-43.26049 -22.91877)  \n",
       "4999  POINT (-43.49115 -22.88288)  \n",
       "\n",
       "[5000 rows x 14 columns]"
      ]
     },
     "execution_count": 24,
     "metadata": {},
     "output_type": "execute_result"
    }
   ],
   "source": [
    "geo_dados"
   ]
  },
  {
   "cell_type": "code",
   "execution_count": 20,
   "id": "e07033ed",
   "metadata": {},
   "outputs": [
    {
     "data": {
      "text/plain": [
       "<AxesSubplot:>"
      ]
     },
     "execution_count": 20,
     "metadata": {},
     "output_type": "execute_result"
    },
    {
     "data": {
      "image/png": "[encoded data removed]",
      "text/plain": [
       "<Figure size 432x288 with 1 Axes>"
      ]
     },
     "metadata": {
      "needs_background": "light"
     },
     "output_type": "display_data"
    }
   ],
   "source": [
    "geo_dados.plot(alpha=0.4)"
   ]
  },
  {
   "cell_type": "code",
   "execution_count": 21,
   "id": "9fadb3db",
   "metadata": {},
   "outputs": [],
   "source": [
    "dir = 'Dados/RJ_Dataset'\n",
    "if not os.path.exists(dir):\n",
    "    os.makedirs(dir)"
   ]
  },
  {
   "cell_type": "code",
   "execution_count": 22,
   "id": "08430335",
   "metadata": {},
   "outputs": [
    {
     "name": "stderr",
     "output_type": "stream",
     "text": [
      "C:\\Users\\aless\\anaconda3\\envs\\alessandro_pandas\\lib\\site-packages\\geopandas\\io\\file.py:299: FutureWarning: pandas.Int64Index is deprecated and will be removed from pandas in a future version. Use pandas.Index with the appropriate dtype instead.\n",
      "  pd.Int64Index,\n"
     ]
    }
   ],
   "source": [
    "geo_dados.to_file(dir + '/DATASET.shp')"
   ]
  },
  {
   "cell_type": "code",
   "execution_count": null,
   "id": "48ea3650",
   "metadata": {},
   "outputs": [],
   "source": []
  }
 ],
 "metadata": {
  "kernelspec": {
   "display_name": "Python 3 (ipykernel)",
   "language": "python",
   "name": "python3"
  },
  "language_info": {
   "codemirror_mode": {
    "name": "ipython",
    "version": 3
   },
   "file_extension": ".py",
   "mimetype": "text/x-python",
   "name": "python",
   "nbconvert_exporter": "python",
   "pygments_lexer": "ipython3",
   "version": "3.9.7"
  }
 },
 "nbformat": 4,
 "nbformat_minor": 5
}
